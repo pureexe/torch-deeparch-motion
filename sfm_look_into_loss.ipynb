{
 "cells": [
  {
   "cell_type": "code",
   "execution_count": 1,
   "metadata": {},
   "outputs": [],
   "source": [
    "import torch"
   ]
  },
  {
   "cell_type": "code",
   "execution_count": 19,
   "metadata": {},
   "outputs": [],
   "source": [
    "import numpy as np"
   ]
  },
  {
   "cell_type": "code",
   "execution_count": 2,
   "metadata": {},
   "outputs": [
    {
     "data": {
      "text/plain": [
       "'1.4.0'"
      ]
     },
     "execution_count": 2,
     "metadata": {},
     "output_type": "execute_result"
    }
   ],
   "source": [
    "torch.__version__"
   ]
  },
  {
   "cell_type": "code",
   "execution_count": 3,
   "metadata": {},
   "outputs": [],
   "source": [
    "DEVICE = torch.device('cuda')"
   ]
  },
  {
   "cell_type": "code",
   "execution_count": 4,
   "metadata": {},
   "outputs": [],
   "source": [
    "rotation = torch.rand(40, 3, 3, requires_grad=True, device = DEVICE)\n",
    "translation = torch.rand(40, 3, requires_grad=True , device = DEVICE)\n",
    "focal_length = torch.rand(1, requires_grad=True, device = DEVICE)\n",
    "distrotion =  torch.rand(1, requires_grad=True, device = DEVICE)\n",
    "camera_px = torch.tensor(460.0, requires_grad=False, device = DEVICE)\n",
    "camera_py = torch.tensor(608.0, requires_grad=False, device = DEVICE)"
   ]
  },
  {
   "cell_type": "code",
   "execution_count": 5,
   "metadata": {},
   "outputs": [],
   "source": [
    "collect_point2d = []\n",
    "views_list = []\n",
    "point3d_list = []\n",
    "views_count = 0\n",
    "point3d_count = 0\n",
    "uv_count = 0\n",
    "with open('penguin_feature_matching.txt','r') as f:\n",
    "    views_count, point3d_count, uv_count = f.readline().strip().split(' ')\n",
    "    collect_point2d = []\n",
    "    for _ in range(int(uv_count)):\n",
    "        view, p3d, u,v = list(filter(None,f.readline().strip().split(' ')))\n",
    "        collect_point2d.append([float(u),float(v)])\n",
    "        views_list.append(int(view))\n",
    "        point3d_list.append(int(p3d))"
   ]
  },
  {
   "cell_type": "code",
   "execution_count": 6,
   "metadata": {},
   "outputs": [],
   "source": [
    "point3d = torch.rand(int(point3d_count), 3, requires_grad=True, device = DEVICE)\n",
    "point2d = torch.tensor(collect_point2d,requires_grad=False, device = DEVICE)\n",
    "point3d_index = torch.tensor(point3d_list,dtype=torch.long,requires_grad=False, device = DEVICE)\n",
    "extrinsic_index = torch.tensor(views_list,dtype=torch.long,requires_grad=False, device = DEVICE)\n",
    "intrinsic = torch.zeros(3,3, requires_grad=False, device = DEVICE)\n",
    "extrinsic_pad = torch.zeros(int(uv_count),4,4, requires_grad=False, device = DEVICE)\n",
    "point3d_pad = torch.ones(int(uv_count),4,1, requires_grad=False, device = DEVICE)"
   ]
  },
  {
   "cell_type": "code",
   "execution_count": 7,
   "metadata": {},
   "outputs": [],
   "source": [
    "#optimizer = torch.optim.Adam([rotation, translation, focal_length,distrotion,point3d], lr=0.01)\n",
    "# use per parameter learning rate\n",
    "optimizer = torch.optim.Adam([\n",
    "    {'params':focal_length, 'lr':1},\n",
    "    {'params':rotation},\n",
    "    {'params':translation},\n",
    "    {'params':distrotion},\n",
    "    {'params':point3d},\n",
    "], lr=0.01) "
   ]
  },
  {
   "cell_type": "code",
   "execution_count": 8,
   "metadata": {},
   "outputs": [
    {
     "name": "stdout",
     "output_type": "stream",
     "text": [
      "EPOCH    0 - loss 1090407168.000000\n",
      "EPOCH   10 - loss 1038898176.000000\n",
      "EPOCH   20 - loss 972735488.000000\n",
      "EPOCH   30 - loss 883624832.000000\n",
      "EPOCH   40 - loss 776558336.000000\n",
      "EPOCH   50 - loss 669870272.000000\n",
      "EPOCH   60 - loss 563143936.000000\n",
      "EPOCH   70 - loss 468423680.000000\n",
      "EPOCH   80 - loss 389291712.000000\n",
      "EPOCH   90 - loss 314161824.000000\n",
      "EPOCH  100 - loss 240684768.000000\n",
      "EPOCH  110 - loss 175908448.000000\n",
      "EPOCH  120 - loss 125914752.000000\n",
      "EPOCH  130 - loss 92033072.000000\n",
      "EPOCH  140 - loss 69460400.000000\n",
      "EPOCH  150 - loss 54170392.000000\n",
      "EPOCH  160 - loss 43779144.000000\n",
      "EPOCH  170 - loss 36470292.000000\n",
      "EPOCH  180 - loss 31077284.000000\n",
      "EPOCH  190 - loss 26833256.000000\n",
      "EPOCH  200 - loss 23399028.000000\n",
      "EPOCH  210 - loss 21120402.000000\n",
      "EPOCH  220 - loss 19087112.000000\n",
      "EPOCH  230 - loss 17611740.000000\n",
      "EPOCH  240 - loss 16395731.000000\n",
      "EPOCH  250 - loss 15370734.000000\n",
      "EPOCH  260 - loss 14490982.000000\n",
      "EPOCH  270 - loss 13726602.000000\n",
      "EPOCH  280 - loss 13051492.000000\n",
      "EPOCH  290 - loss 12443096.000000\n",
      "EPOCH  300 - loss 11903204.000000\n",
      "EPOCH  310 - loss 11431261.000000\n",
      "EPOCH  320 - loss 10987173.000000\n",
      "EPOCH  330 - loss 10595704.000000\n",
      "EPOCH  340 - loss 10237558.000000\n",
      "EPOCH  350 - loss 9903692.000000\n",
      "EPOCH  360 - loss 9590573.000000\n",
      "EPOCH  370 - loss 9296815.000000\n",
      "EPOCH  380 - loss 9022382.000000\n",
      "EPOCH  390 - loss 8767486.000000\n",
      "EPOCH  400 - loss 8530872.000000\n",
      "EPOCH  410 - loss 8308093.500000\n",
      "EPOCH  420 - loss 8092780.000000\n",
      "EPOCH  430 - loss 7879894.000000\n",
      "EPOCH  440 - loss 7666558.000000\n",
      "EPOCH  450 - loss 7452201.000000\n",
      "EPOCH  460 - loss 7240635.500000\n",
      "EPOCH  470 - loss 7041695.500000\n",
      "EPOCH  480 - loss 6865885.000000\n",
      "EPOCH  490 - loss 6714680.500000\n",
      "EPOCH  500 - loss 6580871.000000\n",
      "EPOCH  510 - loss 6458242.000000\n",
      "EPOCH  520 - loss 6343530.000000\n",
      "EPOCH  530 - loss 6235107.000000\n",
      "EPOCH  540 - loss 6132314.500000\n",
      "EPOCH  550 - loss 6034701.000000\n",
      "EPOCH  560 - loss 5941834.000000\n",
      "EPOCH  570 - loss 5853365.500000\n",
      "EPOCH  580 - loss 5769000.000000\n",
      "EPOCH  590 - loss 5688466.000000\n",
      "EPOCH  600 - loss 5611516.500000\n",
      "EPOCH  610 - loss 5537925.000000\n",
      "EPOCH  620 - loss 5467485.000000\n",
      "EPOCH  630 - loss 5400010.500000\n",
      "EPOCH  640 - loss 5335340.000000\n",
      "EPOCH  650 - loss 5273334.000000\n",
      "EPOCH  660 - loss 5213878.000000\n",
      "EPOCH  670 - loss 5156871.000000\n",
      "EPOCH  680 - loss 5102231.000000\n",
      "EPOCH  690 - loss 5049881.000000\n",
      "EPOCH  700 - loss 4999748.000000\n",
      "EPOCH  710 - loss 4951749.500000\n"
     ]
    },
    {
     "ename": "KeyboardInterrupt",
     "evalue": "",
     "output_type": "error",
     "traceback": [
      "\u001b[1;31m---------------------------------------------------------------------------\u001b[0m",
      "\u001b[1;31mKeyboardInterrupt\u001b[0m                         Traceback (most recent call last)",
      "\u001b[1;32m<ipython-input-8-95ca7e89b989>\u001b[0m in \u001b[0;36m<module>\u001b[1;34m\u001b[0m\n\u001b[0;32m     25\u001b[0m     \u001b[0muv_difference\u001b[0m \u001b[1;33m=\u001b[0m \u001b[0mtorch\u001b[0m\u001b[1;33m.\u001b[0m\u001b[0mpow\u001b[0m\u001b[1;33m(\u001b[0m\u001b[0mpoint2d\u001b[0m \u001b[1;33m-\u001b[0m \u001b[0muv_map\u001b[0m\u001b[1;33m,\u001b[0m \u001b[1;36m2\u001b[0m\u001b[1;33m)\u001b[0m\u001b[1;33m\u001b[0m\u001b[1;33m\u001b[0m\u001b[0m\n\u001b[0;32m     26\u001b[0m     \u001b[0mtotal_loss\u001b[0m \u001b[1;33m=\u001b[0m \u001b[0muv_difference\u001b[0m\u001b[1;33m.\u001b[0m\u001b[0msum\u001b[0m\u001b[1;33m(\u001b[0m\u001b[1;33m)\u001b[0m\u001b[1;33m\u001b[0m\u001b[1;33m\u001b[0m\u001b[0m\n\u001b[1;32m---> 27\u001b[1;33m     \u001b[0mtotal_loss\u001b[0m\u001b[1;33m.\u001b[0m\u001b[0mbackward\u001b[0m\u001b[1;33m(\u001b[0m\u001b[0mretain_graph\u001b[0m\u001b[1;33m=\u001b[0m\u001b[1;32mTrue\u001b[0m\u001b[1;33m)\u001b[0m\u001b[1;33m\u001b[0m\u001b[1;33m\u001b[0m\u001b[0m\n\u001b[0m\u001b[0;32m     28\u001b[0m     \u001b[0moptimizer\u001b[0m\u001b[1;33m.\u001b[0m\u001b[0mstep\u001b[0m\u001b[1;33m(\u001b[0m\u001b[1;33m)\u001b[0m\u001b[1;33m\u001b[0m\u001b[1;33m\u001b[0m\u001b[0m\n\u001b[0;32m     29\u001b[0m     \u001b[1;32mif\u001b[0m \u001b[0mi\u001b[0m \u001b[1;33m%\u001b[0m \u001b[1;36m10\u001b[0m \u001b[1;33m==\u001b[0m \u001b[1;36m0\u001b[0m\u001b[1;33m:\u001b[0m\u001b[1;33m\u001b[0m\u001b[1;33m\u001b[0m\u001b[0m\n",
      "\u001b[1;32mc:\\users\\pakkapon\\appdata\\local\\programs\\python\\python36\\lib\\site-packages\\torch\\tensor.py\u001b[0m in \u001b[0;36mbackward\u001b[1;34m(self, gradient, retain_graph, create_graph)\u001b[0m\n\u001b[0;32m    193\u001b[0m                 \u001b[0mproducts\u001b[0m\u001b[1;33m.\u001b[0m \u001b[0mDefaults\u001b[0m \u001b[0mto\u001b[0m\u001b[0;31m \u001b[0m\u001b[0;31m`\u001b[0m\u001b[0;31m`\u001b[0m\u001b[1;32mFalse\u001b[0m\u001b[0;31m`\u001b[0m\u001b[0;31m`\u001b[0m\u001b[1;33m.\u001b[0m\u001b[1;33m\u001b[0m\u001b[1;33m\u001b[0m\u001b[0m\n\u001b[0;32m    194\u001b[0m         \"\"\"\n\u001b[1;32m--> 195\u001b[1;33m         \u001b[0mtorch\u001b[0m\u001b[1;33m.\u001b[0m\u001b[0mautograd\u001b[0m\u001b[1;33m.\u001b[0m\u001b[0mbackward\u001b[0m\u001b[1;33m(\u001b[0m\u001b[0mself\u001b[0m\u001b[1;33m,\u001b[0m \u001b[0mgradient\u001b[0m\u001b[1;33m,\u001b[0m \u001b[0mretain_graph\u001b[0m\u001b[1;33m,\u001b[0m \u001b[0mcreate_graph\u001b[0m\u001b[1;33m)\u001b[0m\u001b[1;33m\u001b[0m\u001b[1;33m\u001b[0m\u001b[0m\n\u001b[0m\u001b[0;32m    196\u001b[0m \u001b[1;33m\u001b[0m\u001b[0m\n\u001b[0;32m    197\u001b[0m     \u001b[1;32mdef\u001b[0m \u001b[0mregister_hook\u001b[0m\u001b[1;33m(\u001b[0m\u001b[0mself\u001b[0m\u001b[1;33m,\u001b[0m \u001b[0mhook\u001b[0m\u001b[1;33m)\u001b[0m\u001b[1;33m:\u001b[0m\u001b[1;33m\u001b[0m\u001b[1;33m\u001b[0m\u001b[0m\n",
      "\u001b[1;32mc:\\users\\pakkapon\\appdata\\local\\programs\\python\\python36\\lib\\site-packages\\torch\\autograd\\__init__.py\u001b[0m in \u001b[0;36mbackward\u001b[1;34m(tensors, grad_tensors, retain_graph, create_graph, grad_variables)\u001b[0m\n\u001b[0;32m     97\u001b[0m     Variable._execution_engine.run_backward(\n\u001b[0;32m     98\u001b[0m         \u001b[0mtensors\u001b[0m\u001b[1;33m,\u001b[0m \u001b[0mgrad_tensors\u001b[0m\u001b[1;33m,\u001b[0m \u001b[0mretain_graph\u001b[0m\u001b[1;33m,\u001b[0m \u001b[0mcreate_graph\u001b[0m\u001b[1;33m,\u001b[0m\u001b[1;33m\u001b[0m\u001b[1;33m\u001b[0m\u001b[0m\n\u001b[1;32m---> 99\u001b[1;33m         allow_unreachable=True)  # allow_unreachable flag\n\u001b[0m\u001b[0;32m    100\u001b[0m \u001b[1;33m\u001b[0m\u001b[0m\n\u001b[0;32m    101\u001b[0m \u001b[1;33m\u001b[0m\u001b[0m\n",
      "\u001b[1;31mKeyboardInterrupt\u001b[0m: "
     ]
    }
   ],
   "source": [
    "for i in range(1000):\n",
    "    optimizer.zero_grad()\n",
    "    # build intrisic matrix\n",
    "    intrinsic[0,0] = focal_length\n",
    "    intrinsic[1,1] = focal_length\n",
    "    intrinsic[0,1] = distrotion\n",
    "    intrinsic[0,2] = camera_px\n",
    "    intrinsic[1,2] = camera_py\n",
    "    intrinsic[2,2] = 1.0\n",
    "    # build extrinsic matrix\n",
    "    extrinsic_pad[:,:,3] = 1\n",
    "    extrinsic_pad[:,:3,:3] = rotation[extrinsic_index]\n",
    "    extrinsic_pad[:,3,:3] = translation[extrinsic_index]\n",
    "    # build point3d matrix\n",
    "    point3d_pad[:,:3,0] = point3d[point3d_index]\n",
    "    # Do projection\n",
    "    extrinsic_pad_point = torch.matmul(extrinsic_pad,point3d_pad)\n",
    "    extrinsic_pad_point = extrinsic_pad_point[:,:3,:]\n",
    "    projected_point = torch.matmul(intrinsic,extrinsic_pad_point[:,:3,:])\n",
    "    projected_point = projected_point[:,:,0]\n",
    "    uv_map = torch.empty(int(uv_count),2, device = DEVICE)\n",
    "    uv_map[:,0] = projected_point[:,0] / projected_point[:,2]\n",
    "    uv_map[:,1] = projected_point[:,1] / projected_point[:,2]\n",
    "    # compare after projection with point2d\n",
    "    uv_difference = torch.pow(point2d - uv_map, 2)\n",
    "    total_loss = uv_difference.sum()\n",
    "    total_loss.backward(retain_graph=True)\n",
    "    optimizer.step()\n",
    "    if i % 10 == 0:\n",
    "        print(\"EPOCH %4d - loss %10.6f - focal %10.6f\" % (i,total_loss.item(),focal_length.item()))"
   ]
  },
  {
   "cell_type": "code",
   "execution_count": 22,
   "metadata": {},
   "outputs": [],
   "source": [
    "np.save('instrisic.npy',intrinsic.cpu().detach().numpy())\n",
    "np.save('rotation.npy',rotation.cpu().detach().numpy())\n",
    "np.save('translation.npy',translation.cpu().detach().numpy())\n",
    "np.save('point3d.npy',point3d.cpu().detach().numpy())"
   ]
  },
  {
   "cell_type": "code",
   "execution_count": null,
   "metadata": {},
   "outputs": [],
   "source": []
  }
 ],
 "metadata": {
  "kernelspec": {
   "display_name": "Python 3",
   "language": "python",
   "name": "python3"
  },
  "language_info": {
   "codemirror_mode": {
    "name": "ipython",
    "version": 3
   },
   "file_extension": ".py",
   "mimetype": "text/x-python",
   "name": "python",
   "nbconvert_exporter": "python",
   "pygments_lexer": "ipython3",
   "version": "3.6.8"
  }
 },
 "nbformat": 4,
 "nbformat_minor": 2
}
