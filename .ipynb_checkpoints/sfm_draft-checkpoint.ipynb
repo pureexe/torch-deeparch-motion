{
 "cells": [
  {
   "cell_type": "code",
   "execution_count": 1,
   "metadata": {},
   "outputs": [],
   "source": [
    "import torch"
   ]
  },
  {
   "cell_type": "code",
   "execution_count": 2,
   "metadata": {},
   "outputs": [
    {
     "data": {
      "text/plain": [
       "'1.4.0'"
      ]
     },
     "execution_count": 2,
     "metadata": {},
     "output_type": "execute_result"
    }
   ],
   "source": [
    "torch.__version__"
   ]
  },
  {
   "cell_type": "code",
   "execution_count": 3,
   "metadata": {},
   "outputs": [],
   "source": [
    "rotation = torch.zeros(40, 3, 3, requires_grad=True)\n",
    "translation = torch.zeros(40, 3, requires_grad=True)\n",
    "focal_length = torch.zeros(1, requires_grad=True)\n",
    "distrotion =  torch.zeros(1, requires_grad=True)\n",
    "camera_px = torch.tensor(460.0, requires_grad=False)\n",
    "camera_py = torch.tensor(608.0, requires_grad=False)"
   ]
  },
  {
   "cell_type": "code",
   "execution_count": 4,
   "metadata": {},
   "outputs": [],
   "source": [
    "collect_point2d = []\n",
    "views_list = []\n",
    "point3d_list = []\n",
    "views_count = 0\n",
    "point3d_count = 0\n",
    "uv_count = 0\n",
    "with open('penguin_feature_matching.txt','r') as f:\n",
    "    views_count, point3d_count, uv_count = f.readline().strip().split(' ')\n",
    "    collect_point2d = []\n",
    "    for _ in range(int(uv_count)):\n",
    "        view, p3d, u,v = list(filter(None,f.readline().strip().split(' ')))\n",
    "        collect_point2d.append([float(u),float(v)])\n",
    "        views_list.append(int(view))\n",
    "        point3d_list.append(int(p3d))"
   ]
  },
  {
   "cell_type": "code",
   "execution_count": 5,
   "metadata": {},
   "outputs": [],
   "source": [
    "point3d = torch.rand(int(point3d_count), 3, requires_grad=True)\n",
    "point2d = torch.tensor(collect_point2d,requires_grad=False)\n",
    "point3d_index = torch.tensor(point3d_list,dtype=torch.long,requires_grad=False)\n",
    "extrinsic_index = torch.tensor(views_list,dtype=torch.long,requires_grad=False)"
   ]
  },
  {
   "cell_type": "code",
   "execution_count": 6,
   "metadata": {},
   "outputs": [],
   "source": [
    "intrinsic = torch.zeros(3,3, requires_grad=False)\n",
    "intrinsic[0,0] = focal_length\n",
    "intrinsic[1,1] = focal_length\n",
    "intrinsic[0,1] = distrotion\n",
    "intrinsic[0,2] = camera_px\n",
    "intrinsic[1,2] = camera_py\n",
    "intrinsic[2,2] = 1.0"
   ]
  },
  {
   "cell_type": "code",
   "execution_count": 7,
   "metadata": {},
   "outputs": [],
   "source": [
    "extrinsic_pad = torch.zeros(int(uv_count),4,4, requires_grad=False)\n",
    "extrinsic_pad[:,:,3] = 1\n",
    "extrinsic_pad[:,:3,:3] = rotation[extrinsic_index]\n",
    "extrinsic_pad[:,3,:3] = translation[extrinsic_index]"
   ]
  },
  {
   "cell_type": "code",
   "execution_count": 8,
   "metadata": {},
   "outputs": [],
   "source": [
    "point3d_pad = torch.ones(int(uv_count),4,1, requires_grad=False)\n",
    "point3d_pad[:,:3,0] = point3d[point3d_index]"
   ]
  },
  {
   "cell_type": "code",
   "execution_count": 15,
   "metadata": {},
   "outputs": [],
   "source": [
    "#optimizer = torch.optim.Adam([rotation, translation, focal_length,distrotion,point3d], lr=0.01)\n",
    "# use per parameter learning rate\n",
    "optimizer = torch.optim.Adam([\n",
    "    {'params':focal_length, 'lr':1},\n",
    "    {'params':rotation},\n",
    "    {'params':translation},\n",
    "    {'params':distrotion},\n",
    "    {'params':point3d},\n",
    "], lr=0.01) "
   ]
  },
  {
   "cell_type": "code",
   "execution_count": 21,
   "metadata": {},
   "outputs": [
    {
     "name": "stdout",
     "output_type": "stream",
     "text": [
      "EPOCH 0 - loss -2504700.500000\n",
      "EPOCH 100 - loss -2504700.500000\n",
      "EPOCH 200 - loss -2504700.500000\n",
      "EPOCH 300 - loss -2504700.500000\n",
      "EPOCH 400 - loss -2504700.500000\n",
      "EPOCH 500 - loss -2504700.500000\n",
      "EPOCH 600 - loss -2504700.500000\n",
      "EPOCH 700 - loss -2504700.500000\n",
      "EPOCH 800 - loss -2504700.500000\n",
      "EPOCH 900 - loss -2504700.500000\n"
     ]
    }
   ],
   "source": [
    "for i in range(10000):\n",
    "    optimizer.zero_grad()\n",
    "    # Do projection\n",
    "    extrinsic_pad_point = torch.matmul(extrinsic_pad,point3d_pad)\n",
    "    extrinsic_pad_point = extrinsic_pad_point[:,:3,:]\n",
    "    projected_point = torch.matmul(intrinsic,extrinsic_pad_point[:,:3,:])\n",
    "    projected_point = projected_point[:,:,0]\n",
    "    uv_map = torch.empty(int(uv_count),2)\n",
    "    uv_map[:,0] = projected_point[:,0] / projected_point[:,2]\n",
    "    uv_map[:,1] = projected_point[:,1] / projected_point[:,2]\n",
    "    # compare after projection with point2d\n",
    "    uv_difference = torch.pow(point2d - uv_map, 2)\n",
    "    total_loss = uv_difference.sum()\n",
    "    total_loss.backward(retain_graph=True)\n",
    "    optimizer.step()\n",
    "    if i % 100 == 0:\n",
    "        print(\"EPOCH %d - loss %f\" % (i,total_loss.item()))"
   ]
  },
  {
   "cell_type": "code",
   "execution_count": 27,
   "metadata": {},
   "outputs": [],
   "source": []
  },
  {
   "cell_type": "code",
   "execution_count": 28,
   "metadata": {},
   "outputs": [],
   "source": []
  },
  {
   "cell_type": "code",
   "execution_count": 38,
   "metadata": {},
   "outputs": [
    {
     "name": "stdout",
     "output_type": "stream",
     "text": [
      "EPOCH 0 - loss 4.000000 - x = 4.900000, y = 4.900000\n",
      "EPOCH 10 - loss 0.025425 - x = 4.128277, y = 4.074530\n",
      "EPOCH 20 - loss 0.044304 - x = 3.810846, y = 3.730544\n",
      "EPOCH 30 - loss 0.041227 - x = 3.622583, y = 3.684890\n",
      "EPOCH 40 - loss 0.016944 - x = 3.471735, y = 3.737942\n",
      "EPOCH 50 - loss 0.006064 - x = 3.366236, y = 3.797495\n",
      "EPOCH 60 - loss 0.002496 - x = 3.301455, y = 3.840520\n",
      "EPOCH 70 - loss 0.001270 - x = 3.263405, y = 3.868524\n",
      "EPOCH 80 - loss 0.000771 - x = 3.240524, y = 3.886937\n",
      "EPOCH 90 - loss 0.000529 - x = 3.225819, y = 3.899833\n",
      "EPOCH 100 - loss 0.000390 - x = 3.215551, y = 3.909602\n",
      "EPOCH 110 - loss 0.000301 - x = 3.207819, y = 3.917529\n",
      "EPOCH 120 - loss 0.000238 - x = 3.201656, y = 3.924288\n",
      "EPOCH 130 - loss 0.000192 - x = 3.196561, y = 3.930239\n",
      "EPOCH 140 - loss 0.000156 - x = 3.192254, y = 3.935582\n",
      "EPOCH 150 - loss 0.000129 - x = 3.188565, y = 3.940438\n",
      "EPOCH 160 - loss 0.000106 - x = 3.185382, y = 3.944884\n",
      "EPOCH 170 - loss 0.000088 - x = 3.182623, y = 3.948979\n",
      "EPOCH 180 - loss 0.000074 - x = 3.180227, y = 3.952764\n",
      "EPOCH 190 - loss 0.000062 - x = 3.178142, y = 3.956271\n",
      "EPOCH 200 - loss 0.000052 - x = 3.176326, y = 3.959529\n",
      "EPOCH 210 - loss 0.000044 - x = 3.174746, y = 3.962560\n",
      "EPOCH 220 - loss 0.000037 - x = 3.173371, y = 3.965384\n",
      "EPOCH 230 - loss 0.000031 - x = 3.172175, y = 3.968016\n",
      "EPOCH 240 - loss 0.000026 - x = 3.171137, y = 3.970471\n",
      "EPOCH 250 - loss 0.000022 - x = 3.170236, y = 3.972762\n",
      "EPOCH 260 - loss 0.000018 - x = 3.169456, y = 3.974899\n",
      "EPOCH 270 - loss 0.000015 - x = 3.168781, y = 3.976893\n",
      "EPOCH 280 - loss 0.000013 - x = 3.168199, y = 3.978752\n",
      "EPOCH 290 - loss 0.000011 - x = 3.167698, y = 3.980485\n",
      "EPOCH 300 - loss 0.000009 - x = 3.167268, y = 3.982098\n",
      "EPOCH 310 - loss 0.000008 - x = 3.166899, y = 3.983599\n",
      "EPOCH 320 - loss 0.000006 - x = 3.166584, y = 3.984995\n",
      "EPOCH 330 - loss 0.000005 - x = 3.166316, y = 3.986290\n",
      "EPOCH 340 - loss 0.000004 - x = 3.166088, y = 3.987492\n",
      "EPOCH 350 - loss 0.000004 - x = 3.165895, y = 3.988605\n",
      "EPOCH 360 - loss 0.000003 - x = 3.165731, y = 3.989634\n",
      "EPOCH 370 - loss 0.000002 - x = 3.165594, y = 3.990585\n",
      "EPOCH 380 - loss 0.000002 - x = 3.165479, y = 3.991461\n",
      "EPOCH 390 - loss 0.000002 - x = 3.165383, y = 3.992268\n",
      "EPOCH 400 - loss 0.000001 - x = 3.165302, y = 3.993010\n",
      "EPOCH 410 - loss 0.000001 - x = 3.165236, y = 3.993690\n",
      "EPOCH 420 - loss 0.000001 - x = 3.165180, y = 3.994314\n",
      "EPOCH 430 - loss 0.000001 - x = 3.165134, y = 3.994884\n",
      "EPOCH 440 - loss 0.000001 - x = 3.165097, y = 3.995404\n",
      "EPOCH 450 - loss 0.000000 - x = 3.165066, y = 3.995878\n",
      "EPOCH 460 - loss 0.000000 - x = 3.165040, y = 3.996310\n",
      "EPOCH 470 - loss 0.000000 - x = 3.165020, y = 3.996702\n",
      "EPOCH 480 - loss 0.000000 - x = 3.165004, y = 3.997057\n",
      "EPOCH 490 - loss 0.000000 - x = 3.164990, y = 3.997379\n",
      "EPOCH 500 - loss 0.000000 - x = 3.164980, y = 3.997669\n",
      "EPOCH 510 - loss 0.000000 - x = 3.164971, y = 3.997931\n",
      "EPOCH 520 - loss 0.000000 - x = 3.164964, y = 3.998165\n",
      "EPOCH 530 - loss 0.000000 - x = 3.164958, y = 3.998376\n",
      "EPOCH 540 - loss 0.000000 - x = 3.164954, y = 3.998566\n",
      "EPOCH 550 - loss 0.000000 - x = 3.164950, y = 3.998735\n",
      "EPOCH 560 - loss 0.000000 - x = 3.164948, y = 3.998887\n",
      "EPOCH 570 - loss 0.000000 - x = 3.164946, y = 3.999022\n",
      "EPOCH 580 - loss 0.000000 - x = 3.164943, y = 3.999142\n",
      "EPOCH 590 - loss 0.000000 - x = 3.164941, y = 3.999249\n",
      "EPOCH 600 - loss 0.000000 - x = 3.164941, y = 3.999343\n",
      "EPOCH 610 - loss 0.000000 - x = 3.164941, y = 3.999427\n",
      "EPOCH 620 - loss 0.000000 - x = 3.164941, y = 3.999501\n",
      "EPOCH 630 - loss 0.000000 - x = 3.164941, y = 3.999566\n",
      "EPOCH 640 - loss 0.000000 - x = 3.164941, y = 3.999623\n",
      "EPOCH 650 - loss 0.000000 - x = 3.164941, y = 3.999673\n",
      "EPOCH 660 - loss 0.000000 - x = 3.164941, y = 3.999717\n",
      "EPOCH 670 - loss 0.000000 - x = 3.164941, y = 3.999756\n",
      "EPOCH 680 - loss 0.000000 - x = 3.164941, y = 3.999790\n",
      "EPOCH 690 - loss 0.000000 - x = 3.164941, y = 3.999819\n",
      "EPOCH 700 - loss 0.000000 - x = 3.164941, y = 3.999845\n",
      "EPOCH 710 - loss 0.000000 - x = 3.164941, y = 3.999867\n",
      "EPOCH 720 - loss 0.000000 - x = 3.164941, y = 3.999886\n",
      "EPOCH 730 - loss 0.000000 - x = 3.164941, y = 3.999903\n",
      "EPOCH 740 - loss 0.000000 - x = 3.164941, y = 3.999917\n",
      "EPOCH 750 - loss 0.000000 - x = 3.164941, y = 3.999929\n",
      "EPOCH 760 - loss 0.000000 - x = 3.164941, y = 3.999940\n",
      "EPOCH 770 - loss 0.000000 - x = 3.164941, y = 3.999949\n",
      "EPOCH 780 - loss 0.000000 - x = 3.164941, y = 3.999957\n",
      "EPOCH 790 - loss 0.000000 - x = 3.164941, y = 3.999964\n",
      "EPOCH 800 - loss 0.000000 - x = 3.164941, y = 3.999969\n",
      "EPOCH 810 - loss 0.000000 - x = 3.164941, y = 3.999974\n",
      "EPOCH 820 - loss 0.000000 - x = 3.164941, y = 3.999979\n",
      "EPOCH 830 - loss 0.000000 - x = 3.164941, y = 3.999982\n",
      "EPOCH 840 - loss 0.000000 - x = 3.164941, y = 3.999984\n",
      "EPOCH 850 - loss 0.000000 - x = 3.164941, y = 3.999987\n",
      "EPOCH 860 - loss 0.000000 - x = 3.164941, y = 3.999989\n",
      "EPOCH 870 - loss 0.000000 - x = 3.164941, y = 3.999991\n",
      "EPOCH 880 - loss 0.000000 - x = 3.164941, y = 3.999994\n",
      "EPOCH 890 - loss 0.000000 - x = 3.164941, y = 3.999995\n",
      "EPOCH 900 - loss 0.000000 - x = 3.164941, y = 3.999995\n",
      "EPOCH 910 - loss 0.000000 - x = 3.164941, y = 3.999995\n",
      "EPOCH 920 - loss 0.000000 - x = 3.164941, y = 3.999995\n",
      "EPOCH 930 - loss 0.000000 - x = 3.164941, y = 3.999995\n",
      "EPOCH 940 - loss 0.000000 - x = 3.164941, y = 3.999995\n",
      "EPOCH 950 - loss 0.000000 - x = 3.164941, y = 3.999995\n",
      "EPOCH 960 - loss 0.000000 - x = 3.164941, y = 3.999995\n",
      "EPOCH 970 - loss 0.000000 - x = 3.164941, y = 3.999995\n",
      "EPOCH 980 - loss 0.000000 - x = 3.164941, y = 3.999995\n",
      "EPOCH 990 - loss 0.000000 - x = 3.164941, y = 3.999995\n"
     ]
    }
   ],
   "source": [
    "x = torch.tensor([5.0],requires_grad=True)\n",
    "y = torch.tensor([5.0],requires_grad=True)\n",
    "opt = torch.optim.Adam([x,y],lr=0.1) \n",
    "for i in range(1000):\n",
    "    opt.zero_grad()\n",
    "    total_loss = torch.pow((x-3)*(y-4),2)\n",
    "    total_loss.backward(retain_graph=True)\n",
    "    opt.step()\n",
    "    if i % 10 == 0:\n",
    "        print(\"EPOCH %d - loss %f - x = %f, y = %f\" % (i,total_loss.item(),x,y))"
   ]
  },
  {
   "cell_type": "code",
   "execution_count": null,
   "metadata": {},
   "outputs": [],
   "source": []
  }
 ],
 "metadata": {
  "kernelspec": {
   "display_name": "Python 3",
   "language": "python",
   "name": "python3"
  },
  "language_info": {
   "codemirror_mode": {
    "name": "ipython",
    "version": 3
   },
   "file_extension": ".py",
   "mimetype": "text/x-python",
   "name": "python",
   "nbconvert_exporter": "python",
   "pygments_lexer": "ipython3",
   "version": "3.6.8"
  }
 },
 "nbformat": 4,
 "nbformat_minor": 2
}
