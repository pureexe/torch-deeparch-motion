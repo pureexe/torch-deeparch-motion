{
 "cells": [
  {
   "cell_type": "code",
   "execution_count": 1,
   "metadata": {},
   "outputs": [],
   "source": [
    "import torch"
   ]
  },
  {
   "cell_type": "code",
   "execution_count": 2,
   "metadata": {},
   "outputs": [],
   "source": [
    "import numpy as np"
   ]
  },
  {
   "cell_type": "code",
   "execution_count": 3,
   "metadata": {},
   "outputs": [
    {
     "data": {
      "text/plain": [
       "'1.4.0'"
      ]
     },
     "execution_count": 3,
     "metadata": {},
     "output_type": "execute_result"
    }
   ],
   "source": [
    "torch.__version__"
   ]
  },
  {
   "cell_type": "code",
   "execution_count": 4,
   "metadata": {},
   "outputs": [
    {
     "data": {
      "text/plain": [
       "<torch.cuda.device at 0x22bdd83b668>"
      ]
     },
     "execution_count": 4,
     "metadata": {},
     "output_type": "execute_result"
    }
   ],
   "source": [
    "torch.cuda.device('cuda')"
   ]
  },
  {
   "cell_type": "code",
   "execution_count": 5,
   "metadata": {},
   "outputs": [],
   "source": [
    "collect_point2d = []\n",
    "views_list = []\n",
    "point3d_list = []\n",
    "views_count = 0\n",
    "point3d_count = 0\n",
    "uv_count = 0\n",
    "with open('penguinguy_one_angle_matched.db.txt','r') as f:\n",
    "    views_count, point3d_count, uv_count = f.readline().strip().split(' ')\n",
    "    collect_point2d = []\n",
    "    for _ in range(int(uv_count)):\n",
    "        view, p3d, u,v = list(filter(None,f.readline().strip().split(' ')))\n",
    "        collect_point2d.append([float(u),float(v)])\n",
    "        views_list.append(int(view))\n",
    "        point3d_list.append(int(p3d))"
   ]
  },
  {
   "cell_type": "code",
   "execution_count": 6,
   "metadata": {},
   "outputs": [],
   "source": [
    "camera_matrix = torch.rand(int(views_count), 9, requires_grad=True)\n",
    "point3d = torch.rand(int(point3d_count), 3, requires_grad=True)\n",
    "point2d = torch.tensor(collect_point2d, requires_grad=False)\n",
    "point3d_index = torch.tensor(point3d_list,dtype=torch.long,requires_grad=False)\n",
    "extrinsic_index = torch.tensor(views_list,dtype=torch.long,requires_grad=False)"
   ]
  },
  {
   "cell_type": "code",
   "execution_count": 7,
   "metadata": {},
   "outputs": [],
   "source": [
    "optimizer = torch.optim.Adam([camera_matrix,point3d], lr=0.01) "
   ]
  },
  {
   "cell_type": "code",
   "execution_count": 8,
   "metadata": {},
   "outputs": [],
   "source": [
    "# https://github.com/kashif/ceres-solver/blob/master/include/ceres/rotation.h#L457\n",
    "def angle_axis_rotate_point(angle_axis, point3d):\n",
    "    # define variable\n",
    "    theta2 = angle_axis * angle_axis \n",
    "    theta2 = theta2.sum(1) #this is equal vector dot\n",
    "    away_zero = theta2.gt(0.0)\n",
    "    near_zero = theta2.lt(0.0)\n",
    "    # away from zero\n",
    "    theta = torch.sqrt(theta2) # some value will be nan in this step\n",
    "    w = angle_axis.t() / theta\n",
    "    w = w.t()\n",
    "    costheta = torch.cos(theta)\n",
    "    sintheta = torch.sin(theta)\n",
    "    w_cross_pt = torch.cross(w,point3d)\n",
    "    w_dot_pt = angle_axis*point3d\n",
    "    w_dot_pt = w_dot_pt.sum(1)\n",
    "    result_farzero = torch.empty(point3d.shape)\n",
    "    for i in range(3):\n",
    "        result_farzero[:,i] = point3d[:,i] * costheta + w_cross_pt[:,i] * sintheta + w[:,i] * (1.0 - costheta) * w_dot_pt\n",
    "    # near zero\n",
    "    w_cross_pt = torch.cross(angle_axis,point3d)\n",
    "    result_nearzero = point3d + w_cross_pt\n",
    "    result = torch.empty(point3d.shape)\n",
    "    for i in range(3):\n",
    "        result[:,i] = result_nearzero[:,i]*near_zero + result_farzero[:,i]*away_zero\n",
    "    return result"
   ]
  },
  {
   "cell_type": "code",
   "execution_count": 9,
   "metadata": {},
   "outputs": [],
   "source": [
    "# http://ceres-solver.org/nnls_tutorial.html#bundle-adjustment\n",
    "def ceres_projector(camera_matrix, point3d):\n",
    "    #camera[0,1,2] are the angle-axis rotation.\n",
    "    p = angle_axis_rotate_point(camera_matrix[:,:3], point3d)\n",
    "    # camera[3,4,5] are the translation.\n",
    "    p = p + camera_matrix[:,3:6]\n",
    "    # Compute the center of distortion. The sign change comes from\n",
    "    # the camera model that Noah Snavely's Bundler assumes, whereby\n",
    "    # the camera coordinate system has a negative z axis.\n",
    "    xp = - p[:,0] / p[:,2]\n",
    "    yp = - p[:,1] / p[:,2]\n",
    "    #Apply second and fourth order radial distortion.\n",
    "    l1 = camera_matrix[:,7]\n",
    "    l2 = camera_matrix[:,8]\n",
    "    r2 = xp*xp + yp*yp;\n",
    "    distortion = 1.0 + r2  * (l1 + l2  * r2);\n",
    "    # Compute final projected point position.\n",
    "    focal = camera_matrix[:,6]\n",
    "    predicted_x = focal * distortion * xp;\n",
    "    predicted_y = focal * distortion * yp;\n",
    "    # stack into predicted projection\n",
    "    predicted_projection = torch.stack([predicted_x,predicted_y],dim=1)\n",
    "    return predicted_projection;"
   ]
  },
  {
   "cell_type": "code",
   "execution_count": 10,
   "metadata": {},
   "outputs": [
    {
     "name": "stdout",
     "output_type": "stream",
     "text": [
      "EPOCH    0 - loss              2405446656.000000\n",
      "EPOCH   10 - loss              2371023616.000000\n",
      "EPOCH   20 - loss              2367840768.000000\n",
      "EPOCH   30 - loss              2361380864.000000\n",
      "EPOCH   40 - loss              2331547648.000000\n",
      "EPOCH   50 - loss              2279141888.000000\n",
      "EPOCH   60 - loss              2209241088.000000\n",
      "EPOCH   70 - loss              2156968960.000000\n",
      "EPOCH   80 - loss              2119727360.000000\n",
      "EPOCH   90 - loss              2093940352.000000\n",
      "EPOCH  100 - loss              2070022912.000000\n",
      "EPOCH  110 - loss              2039484416.000000\n",
      "EPOCH  120 - loss              2001260800.000000\n",
      "EPOCH  130 - loss              1971859968.000000\n",
      "EPOCH  140 - loss              1937112320.000000\n",
      "EPOCH  150 - loss              1911097600.000000\n",
      "EPOCH  160 - loss              1927401472.000000\n",
      "EPOCH  170 - loss              1839246848.000000\n",
      "EPOCH  180 - loss              1771015168.000000\n",
      "EPOCH  190 - loss              1719340032.000000\n",
      "EPOCH  200 - loss              1653201536.000000\n",
      "EPOCH  210 - loss              1572286976.000000\n",
      "EPOCH  220 - loss              1487701120.000000\n",
      "EPOCH  230 - loss              1424760576.000000\n",
      "EPOCH  240 - loss              1357926400.000000\n",
      "EPOCH  250 - loss              1286362624.000000\n",
      "EPOCH  260 - loss              1197239040.000000\n",
      "EPOCH  270 - loss              1107484800.000000\n",
      "EPOCH  280 - loss               995132480.000000\n",
      "EPOCH  290 - loss               939798016.000000\n",
      "EPOCH  300 - loss               907393856.000000\n",
      "EPOCH  310 - loss               882584832.000000\n",
      "EPOCH  320 - loss               862822656.000000\n",
      "EPOCH  330 - loss               843846144.000000\n",
      "EPOCH  340 - loss               827828992.000000\n",
      "EPOCH  350 - loss               813356928.000000\n",
      "EPOCH  360 - loss               800614208.000000\n",
      "EPOCH  370 - loss               788399936.000000\n",
      "EPOCH  380 - loss               773455424.000000\n",
      "EPOCH  390 - loss               757656832.000000\n",
      "EPOCH  400 - loss               743740800.000000\n",
      "EPOCH  410 - loss               728324160.000000\n",
      "EPOCH  420 - loss               711472192.000000\n",
      "EPOCH  430 - loss               691470016.000000\n",
      "EPOCH  440 - loss               660568192.000000\n",
      "EPOCH  450 - loss               620081920.000000\n",
      "EPOCH  460 - loss               597868928.000000\n",
      "EPOCH  470 - loss               581550336.000000\n",
      "EPOCH  480 - loss               568962816.000000\n",
      "EPOCH  490 - loss               557468544.000000\n",
      "EPOCH  500 - loss               546326016.000000\n",
      "EPOCH  510 - loss               537227840.000000\n",
      "EPOCH  520 - loss               529407168.000000\n",
      "EPOCH  530 - loss               523169184.000000\n",
      "EPOCH  540 - loss               517517248.000000\n",
      "EPOCH  550 - loss               512326112.000000\n",
      "EPOCH  560 - loss               507761056.000000\n",
      "EPOCH  570 - loss               502839296.000000\n",
      "EPOCH  580 - loss               498358464.000000\n",
      "EPOCH  590 - loss               493980000.000000\n",
      "EPOCH  600 - loss               491191264.000000\n",
      "EPOCH  610 - loss               488441088.000000\n",
      "EPOCH  620 - loss               485886880.000000\n",
      "EPOCH  630 - loss               483009792.000000\n",
      "EPOCH  640 - loss               480282272.000000\n",
      "EPOCH  650 - loss               476683328.000000\n",
      "EPOCH  660 - loss               473120928.000000\n",
      "EPOCH  670 - loss               468534912.000000\n",
      "EPOCH  680 - loss               461114272.000000\n",
      "EPOCH  690 - loss               450566656.000000\n",
      "EPOCH  700 - loss               428572704.000000\n",
      "EPOCH  710 - loss               386871552.000000\n",
      "EPOCH  720 - loss               337345792.000000\n",
      "EPOCH  730 - loss               325833536.000000\n",
      "EPOCH  740 - loss               318770624.000000\n",
      "EPOCH  750 - loss               311250432.000000\n",
      "EPOCH  760 - loss               289846432.000000\n",
      "EPOCH  770 - loss               262979232.000000\n",
      "EPOCH  780 - loss               233095552.000000\n",
      "EPOCH  790 - loss               193739920.000000\n",
      "EPOCH  800 - loss               139666416.000000\n",
      "EPOCH  810 - loss                79620952.000000\n",
      "EPOCH  820 - loss                70843608.000000\n",
      "EPOCH  830 - loss                64670092.000000\n",
      "EPOCH  840 - loss                61132136.000000\n",
      "EPOCH  850 - loss                58983916.000000\n",
      "EPOCH  860 - loss                57574420.000000\n",
      "EPOCH  870 - loss                55626764.000000\n",
      "EPOCH  880 - loss                54045980.000000\n",
      "EPOCH  890 - loss                52553872.000000\n",
      "EPOCH  900 - loss                51350324.000000\n",
      "EPOCH  910 - loss                50222276.000000\n",
      "EPOCH  920 - loss                49171640.000000\n",
      "EPOCH  930 - loss                48157672.000000\n",
      "EPOCH  940 - loss                47206780.000000\n",
      "EPOCH  950 - loss                46255028.000000\n",
      "EPOCH  960 - loss                45359724.000000\n",
      "EPOCH  970 - loss                44376608.000000\n",
      "EPOCH  980 - loss                43441372.000000\n",
      "EPOCH  990 - loss                42547176.000000\n",
      "EPOCH 1000 - loss                41647936.000000\n",
      "EPOCH 1010 - loss                41092824.000000\n",
      "EPOCH 1020 - loss                40247508.000000\n",
      "EPOCH 1030 - loss                39112180.000000\n",
      "EPOCH 1040 - loss                38159004.000000\n",
      "EPOCH 1050 - loss                37316412.000000\n",
      "EPOCH 1060 - loss                36447560.000000\n",
      "EPOCH 1070 - loss                35598936.000000\n",
      "EPOCH 1080 - loss                34754736.000000\n",
      "EPOCH 1090 - loss                33977452.000000\n",
      "EPOCH 1100 - loss                33185454.000000\n"
     ]
    },
    {
     "ename": "KeyboardInterrupt",
     "evalue": "",
     "output_type": "error",
     "traceback": [
      "\u001b[1;31m---------------------------------------------------------------------------\u001b[0m",
      "\u001b[1;31mKeyboardInterrupt\u001b[0m                         Traceback (most recent call last)",
      "\u001b[1;32m<ipython-input-10-35bcbab53cea>\u001b[0m in \u001b[0;36m<module>\u001b[1;34m\u001b[0m\n\u001b[0;32m     10\u001b[0m     \u001b[0muv_difference\u001b[0m \u001b[1;33m=\u001b[0m \u001b[0mtorch\u001b[0m\u001b[1;33m.\u001b[0m\u001b[0mpow\u001b[0m\u001b[1;33m(\u001b[0m\u001b[0mpoint2d\u001b[0m \u001b[1;33m-\u001b[0m \u001b[0mprojected\u001b[0m\u001b[1;33m,\u001b[0m\u001b[1;36m2\u001b[0m\u001b[1;33m)\u001b[0m\u001b[1;33m\u001b[0m\u001b[1;33m\u001b[0m\u001b[0m\n\u001b[0;32m     11\u001b[0m     \u001b[0mtotal_loss\u001b[0m \u001b[1;33m=\u001b[0m \u001b[0muv_difference\u001b[0m\u001b[1;33m.\u001b[0m\u001b[0msum\u001b[0m\u001b[1;33m(\u001b[0m\u001b[1;33m)\u001b[0m\u001b[1;33m\u001b[0m\u001b[1;33m\u001b[0m\u001b[0m\n\u001b[1;32m---> 12\u001b[1;33m     \u001b[0mtotal_loss\u001b[0m\u001b[1;33m.\u001b[0m\u001b[0mbackward\u001b[0m\u001b[1;33m(\u001b[0m\u001b[0mretain_graph\u001b[0m\u001b[1;33m=\u001b[0m\u001b[1;32mTrue\u001b[0m\u001b[1;33m)\u001b[0m\u001b[1;33m\u001b[0m\u001b[1;33m\u001b[0m\u001b[0m\n\u001b[0m\u001b[0;32m     13\u001b[0m     \u001b[0moptimizer\u001b[0m\u001b[1;33m.\u001b[0m\u001b[0mstep\u001b[0m\u001b[1;33m(\u001b[0m\u001b[1;33m)\u001b[0m\u001b[1;33m\u001b[0m\u001b[1;33m\u001b[0m\u001b[0m\n\u001b[0;32m     14\u001b[0m     \u001b[1;32mif\u001b[0m \u001b[0mi\u001b[0m \u001b[1;33m%\u001b[0m \u001b[1;36m10\u001b[0m \u001b[1;33m==\u001b[0m \u001b[1;36m0\u001b[0m\u001b[1;33m:\u001b[0m\u001b[1;33m\u001b[0m\u001b[1;33m\u001b[0m\u001b[0m\n",
      "\u001b[1;32mc:\\users\\pakkapon\\appdata\\local\\programs\\python\\python36\\lib\\site-packages\\torch\\tensor.py\u001b[0m in \u001b[0;36mbackward\u001b[1;34m(self, gradient, retain_graph, create_graph)\u001b[0m\n\u001b[0;32m    193\u001b[0m                 \u001b[0mproducts\u001b[0m\u001b[1;33m.\u001b[0m \u001b[0mDefaults\u001b[0m \u001b[0mto\u001b[0m\u001b[0;31m \u001b[0m\u001b[0;31m`\u001b[0m\u001b[0;31m`\u001b[0m\u001b[1;32mFalse\u001b[0m\u001b[0;31m`\u001b[0m\u001b[0;31m`\u001b[0m\u001b[1;33m.\u001b[0m\u001b[1;33m\u001b[0m\u001b[1;33m\u001b[0m\u001b[0m\n\u001b[0;32m    194\u001b[0m         \"\"\"\n\u001b[1;32m--> 195\u001b[1;33m         \u001b[0mtorch\u001b[0m\u001b[1;33m.\u001b[0m\u001b[0mautograd\u001b[0m\u001b[1;33m.\u001b[0m\u001b[0mbackward\u001b[0m\u001b[1;33m(\u001b[0m\u001b[0mself\u001b[0m\u001b[1;33m,\u001b[0m \u001b[0mgradient\u001b[0m\u001b[1;33m,\u001b[0m \u001b[0mretain_graph\u001b[0m\u001b[1;33m,\u001b[0m \u001b[0mcreate_graph\u001b[0m\u001b[1;33m)\u001b[0m\u001b[1;33m\u001b[0m\u001b[1;33m\u001b[0m\u001b[0m\n\u001b[0m\u001b[0;32m    196\u001b[0m \u001b[1;33m\u001b[0m\u001b[0m\n\u001b[0;32m    197\u001b[0m     \u001b[1;32mdef\u001b[0m \u001b[0mregister_hook\u001b[0m\u001b[1;33m(\u001b[0m\u001b[0mself\u001b[0m\u001b[1;33m,\u001b[0m \u001b[0mhook\u001b[0m\u001b[1;33m)\u001b[0m\u001b[1;33m:\u001b[0m\u001b[1;33m\u001b[0m\u001b[1;33m\u001b[0m\u001b[0m\n",
      "\u001b[1;32mc:\\users\\pakkapon\\appdata\\local\\programs\\python\\python36\\lib\\site-packages\\torch\\autograd\\__init__.py\u001b[0m in \u001b[0;36mbackward\u001b[1;34m(tensors, grad_tensors, retain_graph, create_graph, grad_variables)\u001b[0m\n\u001b[0;32m     97\u001b[0m     Variable._execution_engine.run_backward(\n\u001b[0;32m     98\u001b[0m         \u001b[0mtensors\u001b[0m\u001b[1;33m,\u001b[0m \u001b[0mgrad_tensors\u001b[0m\u001b[1;33m,\u001b[0m \u001b[0mretain_graph\u001b[0m\u001b[1;33m,\u001b[0m \u001b[0mcreate_graph\u001b[0m\u001b[1;33m,\u001b[0m\u001b[1;33m\u001b[0m\u001b[1;33m\u001b[0m\u001b[0m\n\u001b[1;32m---> 99\u001b[1;33m         allow_unreachable=True)  # allow_unreachable flag\n\u001b[0m\u001b[0;32m    100\u001b[0m \u001b[1;33m\u001b[0m\u001b[0m\n\u001b[0;32m    101\u001b[0m \u001b[1;33m\u001b[0m\u001b[0m\n",
      "\u001b[1;31mKeyboardInterrupt\u001b[0m: "
     ]
    }
   ],
   "source": [
    "for i in range(10000):\n",
    "    optimizer.zero_grad()\n",
    "    # build camera_matrix\n",
    "    camera_list = camera_matrix[extrinsic_index]\n",
    "    # build point3d matrix\n",
    "    point3d_list = point3d[point3d_index]\n",
    "    # Do projection\n",
    "    projected = ceres_projector(camera_list, point3d_list)\n",
    "    # compare after projection with point2d\n",
    "    uv_difference = torch.pow(point2d - projected,2) \n",
    "    total_loss = uv_difference.sum()\n",
    "    total_loss.backward(retain_graph=True)\n",
    "    optimizer.step()\n",
    "    if i % 10 == 0:\n",
    "        print(\"EPOCH %4d - loss %30.6f\" % (i,total_loss.item()))"
   ]
  },
  {
   "cell_type": "code",
   "execution_count": null,
   "metadata": {},
   "outputs": [],
   "source": [
    "np.save('point3d.npy',point3d.cpu().detach().numpy())"
   ]
  },
  {
   "cell_type": "code",
   "execution_count": null,
   "metadata": {},
   "outputs": [],
   "source": [
    "point3d.detach()"
   ]
  },
  {
   "cell_type": "code",
   "execution_count": null,
   "metadata": {},
   "outputs": [],
   "source": []
  }
 ],
 "metadata": {
  "kernelspec": {
   "display_name": "Python 3",
   "language": "python",
   "name": "python3"
  },
  "language_info": {
   "codemirror_mode": {
    "name": "ipython",
    "version": 3
   },
   "file_extension": ".py",
   "mimetype": "text/x-python",
   "name": "python",
   "nbconvert_exporter": "python",
   "pygments_lexer": "ipython3",
   "version": "3.6.8"
  }
 },
 "nbformat": 4,
 "nbformat_minor": 2
}
